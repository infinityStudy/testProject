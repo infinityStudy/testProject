{
 "cells": [
  {
   "cell_type": "markdown",
   "metadata": {},
   "source": [
    "# Numpy\n",
    "1. ndarray(다차원배열)\n",
    "    1.1 numpy.random.randn(2,3) : 2행 3열짜리 랜덤 숫자 추출\n",
    "    \n",
    "    1.2 numpy.array(data1) : array로 변환\n",
    "    \n",
    "함수명|설명|사용법\n",
    ":-:|:--|:--\n",
    "array|입력데이터를 ndarray로 변환<br>입력데이터 : list, dict, tuple,등|numpy.array(data,dtype='float')\n",
    "asarray | 입력데이터를 ndarray로 변환 | numpy.asarray(data)\n",
    ".dtype | 데이터의 자료형 확인 | data.dtype\n",
    ".astype() | 데이터의 numpy의 자료형으로 변환 | data.astype(numpy.floadt64)\n",
    "\n",
    "    1.3 slicing\n",
    "        * arr = np.arange(5); \n",
    "        * arr[5:8] : 5번째부터 7번째까지\n",
    "        * arr[\n",
    "    1.4 data 조회 및 비교\n",
    "        * data[names == 'bob'] # 인덱스 반환\n",
    "        * data[names =='bob',2:] # names가 bob인 것의 2번째 열부터 끝까지\n",
    "        # data[-(names=='bob')] # names가 bob인 것은 제외하고 모두\n",
    "    1.5 배열 전치와 축 바꾸기\n",
    "        o arr=np.arange(15).reshape((3,5)) : 0부터 14까지 순서대로 하는데, 3행 5열로 배치한다.\n",
    "        o 결과 arr을 그대로 90도 전환으로 5행3열로 만들려면, arr.T 를 한다. T는 transpose로 축을 바꾼다.\n",
    "        \n",
    "2. 계산 함수\n",
    "\n",
    "    2.1 단항 함수 : data\n",
    "    \n",
    "함수명|설명|사용법\n",
    ":-:|:--|:--\n",
    "abs|각 원소의 절대값을 구한다 | numpy.abs(data)\n",
    "fabs| 원소의 절대값을 구하는데, 복소수가 아닌경우 사용한다. |numpy.fabs(data)\n",
    "sqrt | 원소의 제곱근을 계산한다. arr**0.5와 같다. | numpy.sqrt(data)\n",
    "square | 각원소의 게곱을 계산 arr^2 | numpy.square(data)\n",
    "Exp| 각 원소의 지수 $e^x$를 구한다 | numpy.Exp(data)\n",
    "Log,log10,log2,log1p | 각 원소의 자연로그, log10, 을 구한다. | numpy.log10(data)\n",
    "sign | 각 원소의 부호를 계산한다. 1(양수), 0, -1(음수) | numpy.sign(data)\n",
    "ceil | 각 원소의 소숫자리를 올림한다. | numpy.ceil(data)\n",
    "floor|각 원소의 소숫자리를 내린다.|numpy.floor(data)\n",
    "rint| 소수자리를 반올림한다. | numpy.rint(data)\n",
    "modf|각 원소의 몫과 나머지를 각각 배열로 반환한다. | numpy.modf(data)\n",
    "isnan | 각원소가 숫자인지 아닌지를 나타내는 불리언 배열을 반환 | numpy.isnan(data)\n",
    "isfinite | 각 원소가 무한한지를 나타내는 불리언 배열 반환 | numpy.isfinite(data)\n",
    "isinf | 각 원고사 유한한지를 나타내는 불리언 배열 반환 | numpy.isinf(data)\n",
    "cos,sin, tan | 삼각함수 계산 | numpy.cos(data)\n",
    "cosh, sinh, tanh | 쌍곡삼각함수 계싼 | numpy.cosh(data)\n",
    "arccos, arccosh, arcsin, arcsinh, arctan..|역삼각 함수 | numpy.arccos(data)\n",
    "logical_not | 각원소의 논리 부정(not) 값을 계산, -arr과 동일 | numpy.logical_not(data)\n",
    "\n",
    "    2.2 이항 합수 : A, B\n",
    "    \n",
    "함수명|설명|사용법\n",
    ":-:|:--|:--\n",
    "add | 두 배열에서 같은위치의 원소끼리 더한다.|\n",
    "subtract | 첫번째 배열 원소에서 두번째 배열 원소를 뺀다.|\n",
    "multiply | 배열의 원소끼리 곱한다.|\n",
    "divide | 첫번째 배열의 요소에서 두번째 배열의 원소를 나눈다. |\n",
    "floor_divide | 나누기에서 몫만 취한다.|\n",
    "power | 첫번째 배열의 원소에 두번째 배열의 원소만큼 제곱한다. |\n",
    "maximum, fmax | 두 원소 중 큰 값을 반환한다. fmax는 NaN을 무시|\n",
    "minimum, fmin | 두 원소 중 작은 값 반환, fmin은 NaN을 무시\n",
    "mod | 첫번째 배열의 원소에 두번째 배열의 원소를 나눈 나머지를 구한다.\n",
    "copysing | 첫번째 배열원소의 기호를 두번째 배열 원소의 기호로 바꾼다.|\n",
    "greater, greater_equal | >, >= 비교연산을 배열로 반환|\n",
    "less, less_equal | <, <= 비교연산을 배열로 반환 |\n",
    "equal, not_equal | ==, != 비교연산을 배열로 반환 |\n",
    "logical_and, logical_or, logical_xor | &, |, ^의 결과를 반환한다. |\n",
    "\n",
    "\n",
    "3. 주요 함수\n",
    "\n",
    "함수명|설명|사용법\n",
    ":-:|:--|:--\n",
    ".where() | 조건 함수로 치환하는 함수 | numpy.where(a>1, 2, 0)<br>a>1이면 2, 아니면 0 \n",
    ".sort() | 값의 정렬, 기본은 오름차순 | data.sort()\n",
    "\n",
    "4. 통계 함수\n",
    "\n",
    "함수명|설명|사용법\n",
    ":-:|:--|:--\n",
    "sum | 모든 원소의 합을 계산한다.<br> 인자로 axis=1 사용할수 있다.| data.sum(axis=1) or numpy.sum(data, axis=1)\n",
    "mean | 모든 원소의 평균 값을 구한다. | data.mean(axis=1)\n",
    "std | 원소의 표준편차를 구한다. | data.std()\n",
    "var | 원소의 분산을 구한다 | data.var()\n",
    "min | 원소의 최소값을 구한다 | data.min()\n",
    "max | 원소의 최대값을 구한다. | data.max()\n",
    "argmax, argmin|원소의 최대/최소값의 인덱스값 | data.argmax()\n",
    "cumsum | 원소의 누적 합, 0과 1로 옵션 | data.cumsum(1)\n",
    "cumprod | 원소의 누적 곱, 0과 1로 옵션 | data.cumprod(1)\n",
    "\n",
    "5. 불리언 배열값에 대한 통계처리\n",
    "    - (arr>0).sum() : True인 원소의 갯수 반환\n",
    "    \n",
    "6. 집합함수\n",
    "\n",
    "함수명|설명|사용법\n",
    ":-:|:--|:--\n",
    ".unique() | 데이터의 유일값만 반환 | numpy.unique(data)\n",
    ".in1d() | 첫번째 인자의 배열의 원소가 두번째 배열의 원소를 포함하는지를 비교하여 불리언으로 반환<br>in숫자1d이다. | numpy.in1d(data,[2,3,4])\n",
    "intersect1d(x,y) | 배열 x와 y에 공통적으로 존재하는 원소를 정렬하여 반환 | numpy.intersect1d(x,y)\n",
    "union1d(x,y) | 두 배열의 합집합을 반환한다. | numpy.union1d(x,y)\n",
    "setdiff1d(x,y) | 두 배열의 차집합을 반환한다. | numpy.setdiff1d(x,y)\n",
    "setxor1d(x,y) | 한 배열에는 포함되지만, 두 배열에는 포함되지 않는 원소들의 집합인 대칭차집합 반환 | numpy.setxor1d(x,y)\n",
    "\n",
    "\n",
    "7. numpy 파일 입출력\n",
    "    * np.save('파일명.npy', data) : numpy배열을 npy확장자로 저장한다.\n",
    "    * np.savez('파일명.npz', a=arr1, b=arr2) : 여러개의 데이터 배열을 압축된 형태로 저장하고, a,b의 키워드로 저장됨\n",
    "    * np.load('파일명') : npz의 경우는 loadDT['b'] 형태로 접근한다.\n",
    "    * np.loadtxt('파일명.txt', delimiter=',') : ,구분으로 txt파일 로드"
   ]
  },
  {
   "cell_type": "code",
   "execution_count": null,
   "metadata": {},
   "outputs": [],
   "source": []
  },
  {
   "cell_type": "code",
   "execution_count": 22,
   "metadata": {},
   "outputs": [],
   "source": [
    "import numpy as np"
   ]
  },
  {
   "cell_type": "code",
   "execution_count": 26,
   "metadata": {},
   "outputs": [
    {
     "name": "stdout",
     "output_type": "stream",
     "text": [
      "(2, 3)\n",
      "float64\n"
     ]
    },
    {
     "data": {
      "text/plain": [
       "array([[-0.52418538,  0.07448308, -0.09123512],\n",
       "       [-0.92855051, -0.10244301,  0.57755791]])"
      ]
     },
     "execution_count": 26,
     "metadata": {},
     "output_type": "execute_result"
    }
   ],
   "source": [
    "data = np.random.randn(2,3) # 2행 3열짜리 랜덤으로 뽑은 숫자\n",
    "print(data.shape)\n",
    "print(data.dtype)\n",
    "data"
   ]
  },
  {
   "cell_type": "code",
   "execution_count": 28,
   "metadata": {},
   "outputs": [
    {
     "data": {
      "text/plain": [
       "array([1. , 1.1, 0. , 2. ])"
      ]
     },
     "execution_count": 28,
     "metadata": {},
     "output_type": "execute_result"
    }
   ],
   "source": [
    "list1 = [1,1.1,0,2] #리스트 데이터\n",
    "nparr = np.array(list1) # numpy 배열로 변환\n",
    "nparr"
   ]
  },
  {
   "cell_type": "code",
   "execution_count": 29,
   "metadata": {},
   "outputs": [
    {
     "data": {
      "text/plain": [
       "array([[[1.117e-321, 0.000e+000],\n",
       "        [0.000e+000, 0.000e+000],\n",
       "        [0.000e+000, 0.000e+000]],\n",
       "\n",
       "       [[0.000e+000, 0.000e+000],\n",
       "        [0.000e+000, 0.000e+000],\n",
       "        [0.000e+000, 0.000e+000]]])"
      ]
     },
     "execution_count": 29,
     "metadata": {},
     "output_type": "execute_result"
    }
   ],
   "source": [
    "np.empty((2,3,2)) #2행3열 2겹을 empty로 초기화되지 않은 배열 생성"
   ]
  },
  {
   "cell_type": "code",
   "execution_count": 31,
   "metadata": {},
   "outputs": [
    {
     "data": {
      "text/plain": [
       "array([1. , 1.1, 0. , 2. ])"
      ]
     },
     "execution_count": 31,
     "metadata": {},
     "output_type": "execute_result"
    }
   ],
   "source": [
    "np.asarray(list1)"
   ]
  },
  {
   "cell_type": "code",
   "execution_count": 38,
   "metadata": {},
   "outputs": [
    {
     "data": {
      "text/plain": [
       "array([   1, 1234,    2])"
      ]
     },
     "execution_count": 38,
     "metadata": {},
     "output_type": "execute_result"
    }
   ],
   "source": [
    "nparr = np.asarray(list1)\n",
    "slice_nrr = nparr[1:4]\n",
    "slice_nrr[1]=1234 #1번째 index에 1234를 삽입\n",
    "slice_nrr.astype(int) # int형으로 변환"
   ]
  },
  {
   "cell_type": "code",
   "execution_count": 48,
   "metadata": {},
   "outputs": [
    {
     "name": "stdout",
     "output_type": "stream",
     "text": [
      "[[1 2 3]\n",
      " [4 5 6]\n",
      " [7 8 9]]\n",
      "6\n"
     ]
    }
   ],
   "source": [
    "a =[1,2,3]\n",
    "b=[4,5,6]\n",
    "c=[7,8,9]\n",
    "np_abc = np.array([a,b,c])\n",
    "print(np_abc)\n",
    "print(np_abc[1,2])"
   ]
  },
  {
   "cell_type": "code",
   "execution_count": 55,
   "metadata": {},
   "outputs": [
    {
     "name": "stdout",
     "output_type": "stream",
     "text": [
      "[      1       1 1522756       4]\n",
      "[      1       1 1522756       4]\n"
     ]
    }
   ],
   "source": [
    "print((nparr**2).astype(int))\n",
    "print(np.square(nparr).astype(int))"
   ]
  },
  {
   "cell_type": "code",
   "execution_count": 58,
   "metadata": {},
   "outputs": [
    {
     "data": {
      "text/plain": [
       "4"
      ]
     },
     "execution_count": 58,
     "metadata": {},
     "output_type": "execute_result"
    }
   ],
   "source": [
    "2**2"
   ]
  },
  {
   "cell_type": "code",
   "execution_count": 61,
   "metadata": {},
   "outputs": [
    {
     "data": {
      "text/plain": [
       "(1000,)"
      ]
     },
     "execution_count": 61,
     "metadata": {},
     "output_type": "execute_result"
    }
   ],
   "source": [
    "points = np.arange(-5,5,0.01) #-5부터 5까지 0.01간격으로 된 벡터(serise)를 만든다.\n",
    "points.shape"
   ]
  },
  {
   "cell_type": "code",
   "execution_count": 68,
   "metadata": {},
   "outputs": [
    {
     "name": "stdout",
     "output_type": "stream",
     "text": [
      "(1000, 1000)\n",
      "(1000, 1000)\n"
     ]
    }
   ],
   "source": [
    "xs, ys = np.meshgrid(points, points)\n",
    "print(xs.shape)\n",
    "print(ys.shape)\n"
   ]
  },
  {
   "cell_type": "code",
   "execution_count": 75,
   "metadata": {},
   "outputs": [],
   "source": [
    "%matplotlib nbagg\n",
    "%matplotlib inline\n",
    "import matplotlib\n",
    "import matplotlib.pyplot as plt\n",
    "\n",
    "## matplotlib의 한글 사용을 위해 필수 코딩사항\n",
    "font_location ='C:/Windows/Fonts/HYKANB.TTF'\n",
    "font_name = matplotlib.font_manager.FontProperties(fname=font_location).get_name()\n",
    "matplotlib.rc('font',family=font_name)"
   ]
  },
  {
   "cell_type": "code",
   "execution_count": 78,
   "metadata": {},
   "outputs": [
    {
     "data": {
      "image/png": "[encoded data removed]",
      "text/plain": [
       "<matplotlib.figure.Figure at 0xdf29048>"
      ]
     },
     "metadata": {},
     "output_type": "display_data"
    }
   ],
   "source": [
    "z = np.sqrt(xs**2+ys**2)\n",
    "plt.imshow(z, cmap=plt.cm.gray)\n",
    "plt.colorbar()\n",
    "plt.title(\"$\\sqrt{x^2+y^2}$ 그리드 값에 대한 그래프\")\n",
    "plt.show()"
   ]
  },
  {
   "cell_type": "code",
   "execution_count": 84,
   "metadata": {},
   "outputs": [
    {
     "data": {
      "text/plain": [
       "array([[1, 2, 3],\n",
       "       [4, 5, 6],\n",
       "       [7, 8, 9]])"
      ]
     },
     "execution_count": 84,
     "metadata": {},
     "output_type": "execute_result"
    }
   ],
   "source": [
    "np_abc.sort(-1)\n",
    "np_abc"
   ]
  },
  {
   "cell_type": "code",
   "execution_count": 95,
   "metadata": {},
   "outputs": [
    {
     "data": {
      "text/plain": [
       "<Response [403]>"
      ]
     },
     "execution_count": 95,
     "metadata": {},
     "output_type": "execute_result"
    }
   ],
   "source": []
  }
 ],
 "metadata": {
  "kernelspec": {
   "display_name": "Python 3",
   "language": "python",
   "name": "python3"
  },
  "language_info": {
   "codemirror_mode": {
    "name": "ipython",
    "version": 3
   },
   "file_extension": ".py",
   "mimetype": "text/x-python",
   "name": "python",
   "nbconvert_exporter": "python",
   "pygments_lexer": "ipython3",
   "version": "3.6.4"
  }
 },
 "nbformat": 4,
 "nbformat_minor": 2
}
